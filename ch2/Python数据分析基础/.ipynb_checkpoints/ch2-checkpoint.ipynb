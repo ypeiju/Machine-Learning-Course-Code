{
 "cells": [
  {
   "cell_type": "code",
   "execution_count": 4,
   "metadata": {},
   "outputs": [],
   "source": [
    "#!/usr/bin/env python3\n",
    "import pandas as pd\n",
    "import sys\n",
    "input_file = 'supplier_data.csv'\n",
    "output_file ='output3.csv'\n",
    "data_frame = pd.read_csv(input_file)\n",
    "data_frame['Cost'] = data_frame['Cost'].str.strip('$').astype(float)\n",
    "data_frame_value_meets_condition = data_frame.loc[(data_frame['Supplier Name']\\\n",
    ".str.contains('Z')) | (data_frame['Cost'] > 600.0), :]\n",
    "data_frame_value_meets_condition.to_csv(output_file, index=False)"
   ]
  },
  {
   "cell_type": "code",
   "execution_count": 5,
   "metadata": {},
   "outputs": [],
   "source": [
    "#!/usr/bin/env python3\n",
    "import csv\n",
    "import sys\n",
    "\n",
    "input_file = 'supplier_data.csv'\n",
    "output_file ='output3.csv'\n",
    "\n",
    "important_dates = ['1/20/14', '1/30/14']\n",
    "\n",
    "with open(input_file, 'r', newline='') as csv_in_file:\n",
    "\twith open(output_file, 'w', newline='') as csv_out_file:\n",
    "\t\tfilereader = csv.reader(csv_in_file)\n",
    "\t\tfilewriter = csv.writer(csv_out_file)\n",
    "\t\theader = next(filereader)\n",
    "\t\tfilewriter.writerow(header)\n",
    "\t\tfor row_list in filereader:\n",
    "\t\t\ta_date = row_list[4]\n",
    "\t\t\tif a_date in important_dates:\n",
    "\t\t\t\tfilewriter.writerow(row_list)"
   ]
  },
  {
   "cell_type": "code",
   "execution_count": 6,
   "metadata": {},
   "outputs": [],
   "source": [
    "#!/usr/bin/env python3\n",
    "import csv\n",
    "import sys\n",
    "\n",
    "input_file = 'supplier_data.csv'\n",
    "output_file ='output6.csv'\n",
    "\n",
    "my_columns = [0, 3]\n",
    "\n",
    "with open(input_file, 'r', newline='') as csv_in_file:\n",
    "\twith open(output_file, 'w', newline='') as csv_out_file:\n",
    "\t\tfilereader = csv.reader(csv_in_file)\n",
    "\t\tfilewriter = csv.writer(csv_out_file)\n",
    "\t\tfor row_list in filereader:\n",
    "\t\t\trow_list_output = [ ]\n",
    "\t\t\tfor index_value in my_columns:\n",
    "\t\t\t\trow_list_output.append(row_list[index_value])\n",
    "\t\t\tfilewriter.writerow(row_list_output)"
   ]
  },
  {
   "cell_type": "code",
   "execution_count": 8,
   "metadata": {},
   "outputs": [],
   "source": [
    "#!/usr/bin/env python3\n",
    "import pandas as pd\n",
    "import sys\n",
    "\n",
    "data_frame = pd.read_csv(input_file)\n",
    "data_frame_column_by_index = data_frame.iloc[:, [0, 3]]\n",
    "data_frame_column_by_index.to_csv(output_file, index=False)"
   ]
  },
  {
   "cell_type": "code",
   "execution_count": 9,
   "metadata": {},
   "outputs": [],
   "source": [
    "#!/usr/bin/env python3\n",
    "import csv\n",
    "import sys\n",
    "input_file = 'supplier_data.csv'\n",
    "output_file ='output7.csv'\n",
    "\n",
    "my_columns = ['Invoice Number', 'Purchase Date']\n",
    "my_columns_index = []\n",
    "\n",
    "with open(input_file, 'r', newline='') as csv_in_file:\n",
    "\twith open(output_file, 'w', newline='') as csv_out_file:\n",
    "\t\tfilereader = csv.reader(csv_in_file)\n",
    "\t\tfilewriter = csv.writer(csv_out_file)\n",
    "\t\theader = next(filereader)\n",
    "\t\tfor index_value in range(len(header)):\n",
    "\t\t\tif header[index_value] in my_columns:\n",
    "\t\t\t\tmy_columns_index.append(index_value)\n",
    "\t\tfilewriter.writerow(my_columns)\n",
    "\t\tfor row_list in filereader:\n",
    "\t\t\trow_list_output = [ ]\n",
    "\t\t\tfor index_value in my_columns_index:\n",
    "\t\t\t\trow_list_output.append(row_list[index_value])\n",
    "\t\t\tfilewriter.writerow(row_list_output)"
   ]
  },
  {
   "cell_type": "code",
   "execution_count": 10,
   "metadata": {},
   "outputs": [],
   "source": [
    "#!/usr/bin/env python3\n",
    "import pandas as pd\n",
    "import sys\n",
    "\n",
    "data_frame = pd.read_csv(input_file)\n",
    "data_frame_column_by_name = data_frame.loc[:, ['Invoice Number', 'Purchase Date']]\n",
    "data_frame_column_by_name.to_csv(output_file, index=False)"
   ]
  },
  {
   "cell_type": "code",
   "execution_count": 11,
   "metadata": {},
   "outputs": [],
   "source": [
    "#!/usr/bin/env python3\n",
    "import csv\n",
    "import sys\n",
    "\n",
    "input_file = 'supplier_data_unnecessary_header_footer.csv'\n",
    "output_file ='output11.csv'\n",
    "\n",
    "row_counter = 0\n",
    "with open(input_file, 'r', newline='') as csv_in_file:\n",
    "\twith open(output_file, 'w', newline='') as csv_out_file:\n",
    "\t\tfilereader = csv.reader(csv_in_file)\n",
    "\t\tfilewriter = csv.writer(csv_out_file)\n",
    "\t\tfor row in filereader:\n",
    "\t\t\tif row_counter >= 3 and row_counter <= 15:\n",
    "\t\t\t\tfilewriter.writerow([value.strip() for value in row])\n",
    "\t\t\trow_counter += 1"
   ]
  },
  {
   "cell_type": "code",
   "execution_count": 12,
   "metadata": {},
   "outputs": [],
   "source": [
    "#!/usr/bin/env python3\n",
    "import csv\n",
    "import sys\n",
    "input_file = 'supplier_data_no_header_row.csv'\n",
    "output_file ='output12.csv'\n",
    "\n",
    "with open(input_file, 'r', newline='') as csv_in_file:\n",
    "\twith open(output_file, 'w', newline='') as csv_out_file:\n",
    "\t\tfilereader = csv.reader(csv_in_file)\n",
    "\t\tfilewriter = csv.writer(csv_out_file)\n",
    "\t\theader_list = ['Supplier Name', 'Invoice Number', \\\n",
    "\t\t\t\t\t   'Part Number', 'Cost', 'Purchase Date']\n",
    "\t\tfilewriter.writerow(header_list)\n",
    "\t\tfor row in filereader:\n",
    "\t\t\tfilewriter.writerow (row)"
   ]
  },
  {
   "cell_type": "code",
   "execution_count": 13,
   "metadata": {},
   "outputs": [
    {
     "ename": "SyntaxError",
     "evalue": "invalid character in identifier (<ipython-input-13-319f5c5b329d>, line 7)",
     "output_type": "error",
     "traceback": [
      "\u001b[1;36m  File \u001b[1;32m\"<ipython-input-13-319f5c5b329d>\"\u001b[1;36m, line \u001b[1;32m7\u001b[0m\n\u001b[1;33m    input_path =‘E:\\Python\\jupyter\\Python数据分析基础’\u001b[0m\n\u001b[1;37m                 ^\u001b[0m\n\u001b[1;31mSyntaxError\u001b[0m\u001b[1;31m:\u001b[0m invalid character in identifier\n"
     ]
    }
   ],
   "source": [
    "#!/usr/bin/env python3\n",
    "import csv\n",
    "import glob\n",
    "import os\n",
    "import sys\n",
    "\n",
    "input_path =‘E:\\Python\\jupyter\\Python数据分析基础’ \n",
    "\n",
    "file_counter = 0\n",
    "for input_file in glob.glob(os.path.join(input_path,'sales_*')):\n",
    "\trow_counter = 1\n",
    "\twith open(input_file, 'r', newline='') as csv_in_file:\n",
    "\t\tfilereader = csv.reader(csv_in_file)\n",
    "\t\theader = next(filereader)\n",
    "\t\tfor row in filereader:\n",
    "\t\t\trow_counter += 1\n",
    "\tprint('{0!s}: \\t{1:d} rows \\t{2:d} columns'.format(\\\n",
    "\tos.path.basename(input_file), row_counter, len(header)))\n",
    "\tfile_counter += 1\n",
    "print('Number of files: {0:d}'.format(file_counter))"
   ]
  },
  {
   "cell_type": "code",
   "execution_count": null,
   "metadata": {},
   "outputs": [],
   "source": []
  }
 ],
 "metadata": {
  "kernelspec": {
   "display_name": "Python 3",
   "language": "python",
   "name": "python3"
  },
  "language_info": {
   "codemirror_mode": {
    "name": "ipython",
    "version": 3
   },
   "file_extension": ".py",
   "mimetype": "text/x-python",
   "name": "python",
   "nbconvert_exporter": "python",
   "pygments_lexer": "ipython3",
   "version": "3.7.3"
  }
 },
 "nbformat": 4,
 "nbformat_minor": 2
}
