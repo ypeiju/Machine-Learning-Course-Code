{
 "cells": [
  {
   "cell_type": "code",
   "execution_count": 1,
   "metadata": {},
   "outputs": [
    {
     "name": "stdout",
     "output_type": "stream",
     "text": [
      "output #1:I'm excited to learn Python\n"
     ]
    }
   ],
   "source": [
    "#！/usr/bin/env python3\n",
    "print(\"output #1:I'm excited to learn Python\")"
   ]
  },
  {
   "cell_type": "code",
   "execution_count": 2,
   "metadata": {},
   "outputs": [
    {
     "name": "stdout",
     "output_type": "stream",
     "text": [
      "Output #2: Four plus five equals9.\n"
     ]
    }
   ],
   "source": [
    "x=4\n",
    "y=5\n",
    "z=x+y\n",
    "print(\"Output #2: Four plus five equals{0:d}.\".format(z))"
   ]
  },
  {
   "cell_type": "code",
   "execution_count": 3,
   "metadata": {},
   "outputs": [
    {
     "name": "stdout",
     "output_type": "stream",
     "text": [
      "Output #3: [1, 2, 3, 4], ['first', 'second', 'third', 'fourth'], [1, 2, 3, 4, 'first', 'second', 'third', 'fourth']\n"
     ]
    }
   ],
   "source": [
    "a = [1, 2, 3, 4]\n",
    "b = [\"first\", \"second\", \"third\", \"fourth\"]\n",
    "c = a + b\n",
    "print(\"Output #3: {0}, {1}, {2}\".format(a, b, c))"
   ]
  },
  {
   "cell_type": "code",
   "execution_count": 4,
   "metadata": {},
   "outputs": [
    {
     "name": "stdout",
     "output_type": "stream",
     "text": [
      "Output #4: 9\n",
      "Output #5: 81\n",
      "Output #6: 4.0\n"
     ]
    }
   ],
   "source": [
    "x = 9\n",
    "print(\"Output #4: {0}\".format(x))\n",
    "print(\"Output #5: {0}\".format(3**4))\n",
    "print(\"Output #6: {0}\".format(int(8.3)/int(2.7)))"
   ]
  },
  {
   "cell_type": "code",
   "execution_count": 5,
   "metadata": {},
   "outputs": [
    {
     "name": "stdout",
     "output_type": "stream",
     "text": [
      "Output #7: 3.074\n",
      "Output #8: 12.0\n",
      "Output #9: 2.67\n",
      "Output #10: 2.6667\n"
     ]
    }
   ],
   "source": [
    "print(\"Output #7: {0:.3f}\".format(8.3/2.7))\n",
    "y = 2.5*4.8\n",
    "print(\"Output #8: {0:.1f}\".format(y))\n",
    "r = 8/float(3)\n",
    "print(\"Output #9: {0:.2f}\".format(r))\n",
    "print(\"Output #10: {0:.4f}\".format(8.0/3))"
   ]
  },
  {
   "cell_type": "code",
   "execution_count": 6,
   "metadata": {},
   "outputs": [
    {
     "name": "stdout",
     "output_type": "stream",
     "text": [
      " 1   1    1\n",
      " 2   4    8\n",
      " 3   9   27\n",
      " 4  16   64\n",
      " 5  25  125\n",
      " 6  36  216\n",
      " 7  49  343\n",
      " 8  64  512\n",
      " 9  81  729\n",
      "10 100 1000\n"
     ]
    }
   ],
   "source": [
    "for x in range(1, 11):\n",
    "    print(repr(x).rjust(2), repr(x*x).rjust(3), end=' ')\n",
    "    # 注意前一行 'end' 的使用\n",
    "    print(repr(x*x*x).rjust(4))"
   ]
  },
  {
   "cell_type": "code",
   "execution_count": 1,
   "metadata": {},
   "outputs": [
    {
     "name": "stdout",
     "output_type": "stream",
     "text": [
      "Output #26: string3:  Remove unwanted characters from this string.\t\t \n",
      "\n",
      "Output #27: lstrip: Remove unwanted characters from this string.\t\t \n",
      "\n",
      "Output #28: rstrip:  Remove unwanted characters from this string.\n",
      "Output #29: strip: Remove unwanted characters from this string.\n"
     ]
    }
   ],
   "source": [
    "string3 = \" Remove unwanted characters from this string.\\t\\t \\n\"\n",
    "print(\"Output #26: string3: {0:s}\".format(string3))\n",
    "string3_lstrip = string3.lstrip()\n",
    "print(\"Output #27: lstrip: {0:s}\".format(string3_lstrip))\n",
    "string3_rstrip = string3.rstrip()\n",
    "print(\"Output #28: rstrip: {0:s}\".format(string3_rstrip))\n",
    "string3_strip = string3.strip()\n",
    "print(\"Output #29: strip: {0:s}\".format(string3_strip))"
   ]
  },
  {
   "cell_type": "code",
   "execution_count": 2,
   "metadata": {},
   "outputs": [
    {
     "name": "stdout",
     "output_type": "stream",
     "text": [
      "Output #30: $$Here's another string that has unwanted characters.__---++\n",
      "Output #31: The unwanted characters have been removed.\n"
     ]
    }
   ],
   "source": [
    "string4 = \"$$Here's another string that has unwanted characters.__---++\"\n",
    "print(\"Output #30: {0:s}\".format(string4))\n",
    "string4 = \"$$The unwanted characters have been removed.__---++\"\n",
    "string4_strip = string4.strip('$_-+')\n",
    "print(\"Output #31: {0:s}\".format(string4_strip))"
   ]
  },
  {
   "cell_type": "code",
   "execution_count": 3,
   "metadata": {},
   "outputs": [
    {
     "name": "stdout",
     "output_type": "stream",
     "text": [
      "Output #32 (with !@!): Let's!@!replace!@!the!@!spaces!@!in!@!this!@!sentence!@!with!@!other!@!characters.\n",
      "Output #33 (with commas): Let's,replace,the,spaces,in,this,sentence,with,other,characters.\n"
     ]
    }
   ],
   "source": [
    "string5 = \"Let's replace the spaces in this sentence with other characters.\"\n",
    "string5_replace = string5.replace(\" \", \"!@!\")\n",
    "print(\"Output #32 (with !@!): {0:s}\".format(string5_replace))\n",
    "string5_replace = string5.replace(\" \", \",\")\n",
    "print(\"Output #33 (with commas): {0:s}\".format(string5_replace))"
   ]
  },
  {
   "cell_type": "code",
   "execution_count": 4,
   "metadata": {},
   "outputs": [
    {
     "name": "stdout",
     "output_type": "stream",
     "text": [
      "Output #34: here's what happens when you use lower.\n",
      "Output #35: HERE'S WHAT HAPPENS WHEN YOU USE UPPER.\n",
      "Output #36: Here's what happens when you use capitalize.\n",
      "Output #37 (on each word):\n",
      "Here's\n",
      "What\n",
      "Happens\n",
      "When\n",
      "You\n",
      "Use\n",
      "Capitalize.\n"
     ]
    }
   ],
   "source": [
    "string6 = \"Here's WHAT Happens WHEN You Use lower.\"\n",
    "print(\"Output #34: {0:s}\".format(string6.lower()))\n",
    "string7 = \"Here's what Happens when You Use UPPER.\"\n",
    "print(\"Output #35: {0:s}\".format(string7.upper()))\n",
    "string5 = \"here's WHAT Happens WHEN you use Capitalize.\"\n",
    "print(\"Output #36: {0:s}\".format(string5.capitalize()))\n",
    "string5_list = string5.split()\n",
    "print(\"Output #37 (on each word):\")\n",
    "for word in string5_list:\n",
    "    print(\"{0:s}\".format(word.capitalize()))"
   ]
  },
  {
   "cell_type": "code",
   "execution_count": 5,
   "metadata": {},
   "outputs": [],
   "source": [
    "#!/usr/bin/env python3\n",
    "from math import exp, log, sqrt\n",
    "import re"
   ]
  },
  {
   "cell_type": "code",
   "execution_count": 6,
   "metadata": {},
   "outputs": [
    {
     "name": "stdout",
     "output_type": "stream",
     "text": [
      "Output #38: 2\n"
     ]
    }
   ],
   "source": [
    "# 计算字符串中模式出现的次数\n",
    "string = \"The quick brown fox jumps over the lazy dog.\"\n",
    "string_list = string.split()\n",
    "pattern = re.compile(r\"The\", re.I)\n",
    "count = 0\n",
    "for word in string_list:\n",
    "    if pattern.search(word):\n",
    "        count += 1\n",
    "print(\"Output #38: {0:d}\".format(count))"
   ]
  },
  {
   "cell_type": "code",
   "execution_count": 8,
   "metadata": {},
   "outputs": [
    {
     "ename": "SyntaxError",
     "evalue": "unexpected EOF while parsing (<ipython-input-8-ce621d3c543c>, line 8)",
     "output_type": "error",
     "traceback": [
      "\u001b[1;36m  File \u001b[1;32m\"<ipython-input-8-ce621d3c543c>\"\u001b[1;36m, line \u001b[1;32m8\u001b[0m\n\u001b[1;33m    print(\"{:s}\".format(pattern.search(word).group('match_word')\u001b[0m\n\u001b[1;37m                                                                ^\u001b[0m\n\u001b[1;31mSyntaxError\u001b[0m\u001b[1;31m:\u001b[0m unexpected EOF while parsing\n"
     ]
    }
   ],
   "source": [
    "# 在字符串中每次找到模式时将其打印出来\n",
    "string = \"The quick brown fox jumps over the lazy dog.\"\n",
    "string_list = string.split()\n",
    "pattern = re.compile(r\"(?P<match_word>The)\", re.I)\n",
    "print(\"Output #39:\")\n",
    "for word in string_list:\n",
    "    if pattern.search(word):\n",
    "        print(\"{:s}\".format(pattern.search(word).group('match_word')"
   ]
  },
  {
   "cell_type": "code",
   "execution_count": 9,
   "metadata": {},
   "outputs": [],
   "source": [
    "#!/usr/bin/env python3\n",
    "from math import exp, log, sqrt\n",
    "import re\n",
    "from datetime import date, time, datetime, timedelta"
   ]
  },
  {
   "cell_type": "code",
   "execution_count": 10,
   "metadata": {},
   "outputs": [
    {
     "name": "stdout",
     "output_type": "stream",
     "text": [
      "Output #41: today: 2020-09-10\n",
      "Output #42: 2020\n",
      "Output #43: 9\n",
      "Output #44: 10\n",
      "Output #45: 2020-09-10 11:36:27.076566\n"
     ]
    }
   ],
   "source": [
    "# 打印出今天的日期形式，以及年、月、日\n",
    "today = date.today()\n",
    "print(\"Output #41: today: {0!s}\".format(today))\n",
    "print(\"Output #42: {0!s}\".format(today.year))\n",
    "print(\"Output #43: {0!s}\".format(today.month))\n",
    "print(\"Output #44: {0!s}\".format(today.day))\n",
    "current_datetime = datetime.today()\n",
    "print(\"Output #45: {0!s}\".format(current_datetime))"
   ]
  },
  {
   "cell_type": "code",
   "execution_count": 12,
   "metadata": {},
   "outputs": [
    {
     "name": "stdout",
     "output_type": "stream",
     "text": [
      "Output #46: yesterday: 2020-09-09\n",
      "Output #47: -1 57600\n"
     ]
    }
   ],
   "source": [
    "# 使用timedelta计算一个新日期\n",
    "one_day = timedelta(days=-1)\n",
    "yesterday = today + one_day\n",
    "print(\"Output #46: yesterday: {0!s}\".format(yesterday))\n",
    "eight_hours = timedelta(hours=-8)\n",
    "print(\"Output #47: {0!s} {1!s}\".format(eight_hours.days, eight_hours.seconds))"
   ]
  },
  {
   "cell_type": "code",
   "execution_count": 13,
   "metadata": {},
   "outputs": [
    {
     "name": "stdout",
     "output_type": "stream",
     "text": [
      "Output #48: 1 day, 0:00:00\n",
      "Output #49: 1\n"
     ]
    }
   ],
   "source": [
    "# 计算出两个日期之间的天数\n",
    "date_diff = today - yesterday\n",
    "print(\"Output #48: {0!s}\".format(date_diff))\n",
    "print(\"Output #49: {0!s}\".format(str(date_diff).split()[0]))"
   ]
  },
  {
   "cell_type": "code",
   "execution_count": 14,
   "metadata": {},
   "outputs": [
    {
     "name": "stdout",
     "output_type": "stream",
     "text": [
      "Output #50: 09/10/2020\n",
      "Output #51: Sep 10, 2020\n",
      "Output #52: 2020-09-10\n",
      "Output #53: September 10, 2020\n"
     ]
    }
   ],
   "source": [
    "# 根据一个日期对象创建具有特定格式的字符串\n",
    "print(\"Output #50: {:s}\".format(today.strftime('%m/%d/%Y')))\n",
    "print(\"Output #51: {:s}\".format(today.strftime('%b %d, %Y')))\n",
    "print(\"Output #52: {:s}\".format(today.strftime('%Y-%m-%d')))\n",
    "print(\"Output #53: {:s}\".format(today.strftime('%B %d, %Y')))"
   ]
  },
  {
   "cell_type": "code",
   "execution_count": 15,
   "metadata": {},
   "outputs": [
    {
     "name": "stdout",
     "output_type": "stream",
     "text": [
      "Output #58: [1, 2, 3]\n",
      "Output #59: a_list has 3 elements.\n",
      "Output #60: the maximum value in a_list is 3.\n",
      "Output #61: the minimum value in a_list is 1.\n",
      "Output #62: ['printer', 5, ['star', 'circle', 9]]\n",
      "Output #63: another_list also has 3 elements.\n",
      "Output #64: 5 is in another_list 1 time.\n"
     ]
    }
   ],
   "source": [
    "# 使用方括号创建一个列表\n",
    "# 用len()计算列表中元素的数量\n",
    "# 用max()和min()找出最大值和最小值\n",
    "# 用count()计算出列表中某个值出现的次数\n",
    "a_list = [1, 2, 3]\n",
    "print(\"Output #58: {}\".format(a_list))\n",
    "print(\"Output #59: a_list has {} elements.\".format(len(a_list)))\n",
    "print(\"Output #60: the maximum value in a_list is {}.\".format(max(a_list)))\n",
    "print(\"Output #61: the minimum value in a_list is {}.\".format(min(a_list)))\n",
    "another_list = ['printer', 5, ['star', 'circle', 9]]\n",
    "print(\"Output #62: {}\".format(another_list))\n",
    "print(\"Output #63: another_list also has {} elements.\".format\\\n",
    "(len(another_list)))\n",
    "print(\"Output #64: 5 is in another_list {} time.\".format(another_list.count(5)))"
   ]
  },
  {
   "cell_type": "code",
   "execution_count": 21,
   "metadata": {
    "scrolled": true
   },
   "outputs": [
    {
     "name": "stdout",
     "output_type": "stream",
     "text": [
      "Output #65: 1\n",
      "Output #66: 2\n",
      "Output #67: 3\n",
      "Output #68: 3\n",
      "Output #69: 2\n",
      "Output #70: 1\n",
      "Output #71: ['star', 'circle', 9]\n",
      "Output #72: ['star', 'circle', 9]\n"
     ]
    }
   ],
   "source": [
    "# 使用索引值访问列表中的特定元素\n",
    "# [0]是第1个元素，[-1]是最后一个元素\n",
    "print(\"Output #65: {}\".format(a_list[0]))\n",
    "print(\"Output #66: {}\".format(a_list[1]))\n",
    "print(\"Output #67: {}\".format(a_list[2]))\n",
    "print(\"Output #68: {}\".format(a_list[-1]))\n",
    "print(\"Output #69: {}\".format(a_list[-2]))\n",
    "print(\"Output #70: {}\".format(a_list[-3]))\n",
    "print(\"Output #71: {}\".format(another_list[2]))\n",
    "print(\"Output #72: {}\".format(another_list[-1]))"
   ]
  },
  {
   "cell_type": "code",
   "execution_count": 19,
   "metadata": {},
   "outputs": [
    {
     "name": "stdout",
     "output_type": "stream",
     "text": [
      "Output #73: [1, 2]\n",
      "Output #74: ['printer', 5]\n",
      "Output #75: [2, 3]\n",
      "Output #76: [5, ['star', 'circle', 9]]\n"
     ]
    }
   ],
   "source": [
    "# 使用列表切片访问列表元素的一个子集\n",
    "# 从开头开始切片，可以省略第1个索引值\n",
    "# 一直切片到末尾，可以省略第2个索引值\n",
    "print(\"Output #73: {}\".format(a_list[0:2]))\n",
    "print(\"Output #74: {}\".format(another_list[:2]))\n",
    "print(\"Output #75: {}\".format(a_list[1:3]))\n",
    "print(\"Output #76: {}\".format(another_list[1:]))"
   ]
  },
  {
   "cell_type": "code",
   "execution_count": 20,
   "metadata": {},
   "outputs": [
    {
     "name": "stdout",
     "output_type": "stream",
     "text": [
      "Output #77: [1, 2, 3]\n"
     ]
    }
   ],
   "source": [
    "# 使用[:]复制一个列表\n",
    "a_new_list = a_list[:]\n",
    "print(\"Output #77: {}\".format(a_new_list))"
   ]
  },
  {
   "cell_type": "code",
   "execution_count": 22,
   "metadata": {},
   "outputs": [
    {
     "name": "stdout",
     "output_type": "stream",
     "text": [
      "Output #78: [1, 2, 3, 'printer', 5, ['star', 'circle', 9]]\n"
     ]
    }
   ],
   "source": [
    "# 使用+将两个或更多个列表连接起来\n",
    "a_longer_list = a_list + another_list\n",
    "print(\"Output #78: {}\".format(a_longer_list))"
   ]
  },
  {
   "cell_type": "code",
   "execution_count": 25,
   "metadata": {},
   "outputs": [
    {
     "name": "stdout",
     "output_type": "stream",
     "text": [
      "Output #79: True\n",
      "Output #80: 2 is in [1, 2, 3].\n",
      "Output #81: True\n",
      "Output #82: 6 is not in [1, 2, 3].\n",
      "Output #79: True\n",
      "Output #80: 2 is in [1, 2, 3].\n",
      "Output #81: True\n",
      "Output #82: 6 is not in [1, 2, 3].\n"
     ]
    }
   ],
   "source": [
    "# 使用in和not in来检查列表中是否有特定元素\n",
    "a = 2 in a_list\n",
    "print(\"Output #79: {}\".format(a))\n",
    "if 2 in a_list:\n",
    "    print(\"Output #80: 2 is in {}.\".format(a_list))\n",
    "b = 6 not in a_list\n",
    "print(\"Output #81: {}\".format(b))\n",
    "if 6 not in a_list:\n",
    "    print(\"Output #82: 6 is not in {}.\".format(a_list))# 使用in和not in来检查列表中是否有特定元素\n",
    "a = 2 in a_list\n",
    "print(\"Output #79: {}\".format(a))\n",
    "if 2 in a_list:\n",
    "    print(\"Output #80: 2 is in {}.\".format(a_list))\n",
    "b = 6 not in a_list\n",
    "print(\"Output #81: {}\".format(b))\n",
    "if 6 not in a_list:\n",
    "    print(\"Output #82: 6 is not in {}.\".format(a_list))"
   ]
  },
  {
   "cell_type": "code",
   "execution_count": 26,
   "metadata": {},
   "outputs": [
    {
     "name": "stdout",
     "output_type": "stream",
     "text": [
      "Output #83: [1, 2, 3, 4, 5, 6]\n",
      "Output #84: [1, 2, 3, 4, 6]\n",
      "Output #85: [1, 2, 3]\n"
     ]
    }
   ],
   "source": [
    "# 使用append()向列表末尾追加一个新元素\n",
    "# 使用remove()从列表中删除一个特定元素\n",
    "# 使用pop()从列表末尾删除一个元素\n",
    "a_list.append(4)\n",
    "a_list.append(5)\n",
    "a_list.append(6)\n",
    "print(\"Output #83: {}\".format(a_list))\n",
    "a_list.remove(5)\n",
    "print(\"Output #84: {}\".format(a_list))\n",
    "a_list.pop()\n",
    "a_list.pop()\n",
    "print(\"Output #85: {}\".format(a_list))"
   ]
  },
  {
   "cell_type": "code",
   "execution_count": 27,
   "metadata": {},
   "outputs": [
    {
     "name": "stdout",
     "output_type": "stream",
     "text": [
      "Output #86: [3, 2, 1]\n",
      "Output #87: [1, 2, 3]\n"
     ]
    }
   ],
   "source": [
    "# 使用reverse()原地反转一个列表会修改原列表\n",
    "# 要想反转列表同时又不修改原列表，可以先复制列表\n",
    "a_list.reverse()\n",
    "print(\"Output #86: {}\".format(a_list))\n",
    "a_list.reverse()\n",
    "print(\"Output #87: {}\".format(a_list))"
   ]
  },
  {
   "cell_type": "code",
   "execution_count": 28,
   "metadata": {},
   "outputs": [
    {
     "name": "stdout",
     "output_type": "stream",
     "text": [
      "Output #88: [3, 5, 1, 7, 2, 8, 4, 9, 0, 6]\n",
      "Output #89: [0, 1, 2, 3, 4, 5, 6, 7, 8, 9]\n",
      "Output #90: [3, 5, 1, 7, 2, 8, 4, 9, 0, 6]\n"
     ]
    }
   ],
   "source": [
    "# 使用sort()对列表进行原地排序会修改原列表\n",
    "# 要想对列表进行排序同时又不修改原列表，可以先复制列表\n",
    "unordered_list = [3, 5, 1, 7, 2, 8, 4, 9, 0, 6]\n",
    "print(\"Output #88: {}\".format(unordered_list))\n",
    "list_copy = unordered_list[:]\n",
    "list_copy.sort()\n",
    "print(\"Output #89: {}\".format(list_copy))\n",
    "print(\"Output #90: {}\".format(unordered_list))"
   ]
  },
  {
   "cell_type": "code",
   "execution_count": 29,
   "metadata": {},
   "outputs": [
    {
     "name": "stdout",
     "output_type": "stream",
     "text": [
      "Output #91: [[4, 3, 2, 1], [2, 4, 1, 3], [1, 2, 3, 4]]\n"
     ]
    }
   ],
   "source": [
    "# 使用sorted()对一个列表集合按照列表中某个位置的元素进行排序\n",
    "my_lists = [[1,2,3,4], [4,3,2,1], [2,4,1,3]]\n",
    "my_lists_sorted_by_index_3 = sorted(my_lists, key=lambda index_value:\\\n",
    "index_value[3])\n",
    "print(\"Output #91: {}\".format(my_lists_sorted_by_index_3))"
   ]
  },
  {
   "cell_type": "code",
   "execution_count": 30,
   "metadata": {},
   "outputs": [],
   "source": [
    "#!/usr/bin/env python3\n",
    "from math import exp, log, sqrt\n",
    "import re\n",
    "from datetime import date, time, datetime, timedelta\n",
    "from operator import itemgetter"
   ]
  },
  {
   "cell_type": "code",
   "execution_count": 31,
   "metadata": {},
   "outputs": [
    {
     "name": "stdout",
     "output_type": "stream",
     "text": [
      "Output #92: [[461, 1, 1, 290], [578, 1, 1, 290], [22, 6, 6, 444], [123, 2, 2, 444], [236, 5, 5, 678], [354, 4, 4, 678]]\n"
     ]
    }
   ],
   "source": [
    "# 使用itemgetter()对一个列表集合按照两个索引位置来排序\n",
    "my_lists = [[123,2,2,444], [22,6,6,444], [354,4,4,678], [236,5,5,678], \\\n",
    "[578,1,1,290], [461,1,1,290]]\n",
    "my_lists_sorted_by_index_3_and_0 = sorted(my_lists, key=itemgetter(3,0))\n",
    "print(\"Output #92: {}\".format(my_lists_sorted_by_index_3_and_0))"
   ]
  },
  {
   "cell_type": "code",
   "execution_count": 32,
   "metadata": {},
   "outputs": [
    {
     "name": "stdout",
     "output_type": "stream",
     "text": [
      "Output #93: ('x', 'y', 'z')\n",
      "Output #94: my_tuple has 3 elements\n",
      "Output #95: y\n",
      "Output #96: ('x', 'y', 'z', 'x', 'y', 'z')\n"
     ]
    }
   ],
   "source": [
    "# 使用圆括号创建元组\n",
    "my_tuple = ('x', 'y', 'z')\n",
    "print(\"Output #93: {}\".format(my_tuple))\n",
    "print(\"Output #94: my_tuple has {} elements\".format(len(my_tuple)))\n",
    "print(\"Output #95: {}\".format(my_tuple[1]))\n",
    "longer_tuple = my_tuple + my_tuple\n",
    "print(\"Output #96: {}\".format(longer_tuple))"
   ]
  },
  {
   "cell_type": "code",
   "execution_count": 33,
   "metadata": {},
   "outputs": [
    {
     "name": "stdout",
     "output_type": "stream",
     "text": [
      "Output #97: x y z\n",
      "Output #98: red robin\n",
      "Output #99: robin red\n"
     ]
    }
   ],
   "source": [
    "# 使用赋值操作符左侧的变量对元组进行解包\n",
    "one, two, three = my_tuple\n",
    "print(\"Output #97: {0} {1} {2}\".format(one, two, three))\n",
    "var1 = 'red'\n",
    "var2 = 'robin'\n",
    "print(\"Output #98: {} {}\".format(var1, var2))\n",
    "# 在变量之间交换彼此的值\n",
    "var1, var2 = var2, var1\n",
    "print(\"Output #99: {} {}\".format(var1, var2))"
   ]
  },
  {
   "cell_type": "code",
   "execution_count": 34,
   "metadata": {},
   "outputs": [
    {
     "name": "stdout",
     "output_type": "stream",
     "text": [
      "Output #100: (1, 2, 3)\n",
      "Output #101: ['x', 'y', 'z']\n"
     ]
    }
   ],
   "source": [
    "# 将元组转换成列表，列表转换成元组\n",
    "my_list = [1, 2, 3]\n",
    "my_tuple = ('x', 'y', 'z')\n",
    "print(\"Output #100: {}\".format(tuple(my_list)))\n",
    "print(\"Output #101: {}\".format(list(my_tuple)))"
   ]
  },
  {
   "cell_type": "code",
   "execution_count": 35,
   "metadata": {},
   "outputs": [
    {
     "name": "stdout",
     "output_type": "stream",
     "text": [
      "Output #102: {'one': 1, 'two': 2, 'three': 3}\n",
      "Output #103: a_dict has 3 elements\n",
      "Output #104: {'x': 'printer', 'y': 5, 'z': ['star', 'circle', 9]}\n",
      "Output #105: another_dict also has 3 elements\n"
     ]
    }
   ],
   "source": [
    "# 使用花括号创建字典\n",
    "# 用冒号分隔键-值对\n",
    "# 用len()计算出字典中键-值对的数量\n",
    "empty_dict = { }\n",
    "a_dict = {'one':1, 'two':2, 'three':3}\n",
    "print(\"Output #102: {}\".format(a_dict))\n",
    "print(\"Output #103: a_dict has {!s} elements\".format(len(a_dict)))\n",
    "another_dict = {'x':'printer', 'y':5, 'z':['star', 'circle', 9]}\n",
    "print(\"Output #104: {}\".format(another_dict))\n",
    "print(\"Output #105: another_dict also has {!s} elements\"\\\n",
    ".format(len(another_dict)))"
   ]
  },
  {
   "cell_type": "code",
   "execution_count": 38,
   "metadata": {},
   "outputs": [
    {
     "name": "stdout",
     "output_type": "stream",
     "text": [
      "Output #106: 2\n",
      "Output #107: ['star', 'circle', 9]\n"
     ]
    }
   ],
   "source": [
    "# 使用键来引用字典中特定的值\n",
    "print(\"Output #106: {}\".format(a_dict['two']))\n",
    "print(\"Output #107: {}\".format(another_dict['z']))"
   ]
  },
  {
   "cell_type": "code",
   "execution_count": 39,
   "metadata": {},
   "outputs": [
    {
     "name": "stdout",
     "output_type": "stream",
     "text": [
      "Output #108: {'one': 1, 'two': 2, 'three': 3}\n"
     ]
    }
   ],
   "source": [
    "# 使用copy()复制一个字典\n",
    "a_new_dict = a_dict.copy()\n",
    "print(\"Output #108: {}\".format(a_new_dict))"
   ]
  },
  {
   "cell_type": "code",
   "execution_count": 40,
   "metadata": {},
   "outputs": [
    {
     "name": "stdout",
     "output_type": "stream",
     "text": [
      "Output #109: dict_keys(['one', 'two', 'three'])\n",
      "Output #110: dict_keys(['one', 'two', 'three'])\n",
      "Output #111: dict_values([1, 2, 3])\n",
      "Output #112: dict_items([('one', 1), ('two', 2), ('three', 3)])\n"
     ]
    }
   ],
   "source": [
    "# 使用keys()、values()和items()\n",
    "# 分别引用字典中的键、值和键-值对\n",
    "print(\"Output #109: {}\".format(a_dict.keys()))\n",
    "a_dict_keys = a_dict.keys()\n",
    "print(\"Output #110: {}\".format(a_dict_keys))\n",
    "print(\"Output #111: {}\".format(a_dict.values()))\n",
    "print(\"Output #112: {}\".format(a_dict.items()))"
   ]
  },
  {
   "cell_type": "code",
   "execution_count": 42,
   "metadata": {},
   "outputs": [
    {
     "name": "stdout",
     "output_type": "stream",
     "text": [
      "Output #114: y is a key in another_dict: dict_keys(['x', 'y', 'z']).\n",
      "Output #115: c is not a key in another_dict: dict_keys(['x', 'y', 'z']).\n",
      "Output #116: 3\n",
      "Output #117: None\n",
      "Output #118: Not in dict\n"
     ]
    }
   ],
   "source": [
    "if 'y' in another_dict:\n",
    "    print(\"Output #114: y is a key in another_dict: {}.\"\\\n",
    ".format(another_dict.keys()))\n",
    "if 'c' not in another_dict:\n",
    "    print(\"Output #115: c is not a key in another_dict: {}.\"\\\n",
    ".format(another_dict.keys()))\n",
    "print(\"Output #116: {!s}\".format(a_dict.get('three')))\n",
    "print(\"Output #117: {!s}\".format(a_dict.get('four')))\n",
    "print(\"Output #118: {!s}\".format(a_dict.get('four', 'Not in dict')))"
   ]
  },
  {
   "cell_type": "code",
   "execution_count": 45,
   "metadata": {},
   "outputs": [
    {
     "ename": "SyntaxError",
     "evalue": "invalid syntax (<ipython-input-45-791c91ddf45f>, line 7)",
     "output_type": "error",
     "traceback": [
      "\u001b[1;36m  File \u001b[1;32m\"<ipython-input-45-791c91ddf45f>\"\u001b[1;36m, line \u001b[1;32m7\u001b[0m\n\u001b[1;33m    print(\"Output #120 (order by keys): {}\".format(ordered_dict1))\u001b[0m\n\u001b[1;37m        ^\u001b[0m\n\u001b[1;31mSyntaxError\u001b[0m\u001b[1;31m:\u001b[0m invalid syntax\n"
     ]
    }
   ],
   "source": [
    "# 使用sorted()对字典进行排序\n",
    "# 要想对字典排序的同时不修改原字典\n",
    "# 先复制字典\n",
    "print(\"Output #119: {}\".format(a_dict))\n",
    "dict_copy = a_dict.copy()\n",
    "ordered_dict1 = sorted(dict_copy.items(), key=lambda item: item[1]\n",
    "print(\"Output #120 (order by keys): {}\".format(ordered_dict1))\n",
    "ordered_dict2 = sorted(dict_copy.items(), key=lambda item: item[1])\n",
    "print(\"Output #121 (order by values): {}\".format(ordered_dict2))\n",
    "ordered_dict3 = sorted(dict_copy.items(), key=lambda x: x[1], reverse=True)\n",
    "print(\"Output #122 (order by values, descending): {}\".format(ordered_dict3))\n",
    "ordered_dict4 = sorted(dict_copy.items(), key=lambda x: x[1], reverse=False)\n",
    "print(\"Output #123 (order by values, ascending): {}\".format(ordered_dict4))"
   ]
  },
  {
   "cell_type": "code",
   "execution_count": 46,
   "metadata": {},
   "outputs": [
    {
     "name": "stdout",
     "output_type": "stream",
     "text": [
      "Output #124: 5\n"
     ]
    }
   ],
   "source": [
    "# if-else语句\n",
    "x = 5\n",
    "if x > 4 or x != 9:\n",
    "    print(\"Output #124: {}\".format(x))\n",
    "else:\n",
    "    print(\"Output #124: x is not greater than 4\")"
   ]
  },
  {
   "cell_type": "code",
   "execution_count": 47,
   "metadata": {},
   "outputs": [
    {
     "name": "stdout",
     "output_type": "stream",
     "text": [
      "Output #125: 25\n"
     ]
    }
   ],
   "source": [
    "# if-elif-else语句\n",
    "if x > 6:\n",
    "    print(\"Output #125: x is greater than six\")\n",
    "elif x > 4 and x == 5:\n",
    "    print(\"Output #125: {}\".format(x*x))\n",
    "else:\n",
    "    print(\"Output #125: x is not greater than 4\")"
   ]
  },
  {
   "cell_type": "code",
   "execution_count": 48,
   "metadata": {},
   "outputs": [
    {
     "name": "stdout",
     "output_type": "stream",
     "text": [
      "Output #126:\n",
      "Jan\n",
      "Feb\n",
      "Mar\n",
      "Apr\n",
      "May\n",
      "Jun\n",
      "Jul\n",
      "Aug\n",
      "Sep\n",
      "Oct\n",
      "Nov\n",
      "Dec\n",
      "Output #127: (index value: name in list)\n",
      "0: Annie\n",
      "1: Betty\n",
      "2: Claire\n",
      "3: Daphne\n",
      "4: Ellie\n",
      "5: Franchesca\n",
      "6: Greta\n",
      "7: Holly\n",
      "8: Isabel\n",
      "9: Jenny\n",
      "Output #128: (access elements in y with z's index values)\n",
      "Jan\n",
      "Jun\n",
      "Jul\n",
      "Output #129:\n",
      "x, printer\n",
      "y, 5\n",
      "z, ['star', 'circle', 9]\n"
     ]
    }
   ],
   "source": [
    "y = ['Jan', 'Feb', 'Mar', 'Apr', 'May', 'Jun', 'Jul', 'Aug', 'Sep', 'Oct', \\\n",
    "'Nov', 'Dec']\n",
    "z = ['Annie', 'Betty', 'Claire', 'Daphne', 'Ellie', 'Franchesca', 'Greta', \\\n",
    "'Holly', 'Isabel', 'Jenny']\n",
    "print(\"Output #126:\")\n",
    "for month in y:\n",
    "    print(\"{!s}\".format(month))\n",
    "print(\"Output #127: (index value: name in list)\")\n",
    "for i in range(len(z)):\n",
    "    print(\"{0!s}: {1:s}\".format(i, z[i]))\n",
    "print(\"Output #128: (access elements in y with z's index values)\")\n",
    "for j in range(len(z)):\n",
    "    if y[j].startswith('J'):\n",
    "        print(\"{!s}\".format(y[j]))\n",
    "print(\"Output #129:\")\n",
    "for key, value in another_dict.items():\n",
    "    print(\"{0:s}, {1}\".format(key, value))"
   ]
  },
  {
   "cell_type": "code",
   "execution_count": 49,
   "metadata": {},
   "outputs": [
    {
     "name": "stdout",
     "output_type": "stream",
     "text": [
      "Output #130 (list comprehension): [[4, 5, 6], [7, 8, 9]]\n"
     ]
    }
   ],
   "source": [
    "# 使用列表生成式选择特定的行\n",
    "my_data = [[1,2,3], [4,5,6], [7,8,9]]\n",
    "rows_to_keep = [row for row in my_data if row[2] > 5]\n",
    "print(\"Output #130 (list comprehension): {}\".format(rows_to_keep))"
   ]
  },
  {
   "cell_type": "code",
   "execution_count": 50,
   "metadata": {},
   "outputs": [
    {
     "name": "stdout",
     "output_type": "stream",
     "text": [
      "Output #131 (set comprehension): {(4, 5, 6), (7, 8, 9), (1, 2, 3)}\n",
      "Output #132 (set function): {(4, 5, 6), (7, 8, 9), (1, 2, 3)}\n"
     ]
    }
   ],
   "source": [
    "# 使用集合生成式在列表中选择出一组唯一的元组\n",
    "my_data = [(1,2,3), (4,5,6), (7,8,9), (7,8,9)]\n",
    "set_of_tuples1 = {x for x in my_data}\n",
    "print(\"Output #131 (set comprehension): {}\".format(set_of_tuples1))\n",
    "set_of_tuples2 = set(my_data)\n",
    "print(\"Output #132 (set function): {}\".format(set_of_tuples2))"
   ]
  },
  {
   "cell_type": "code",
   "execution_count": 51,
   "metadata": {},
   "outputs": [
    {
     "name": "stdout",
     "output_type": "stream",
     "text": [
      "Output #133 (dictionary comprehension): {'customer3': 11}\n"
     ]
    }
   ],
   "source": [
    "# 使用字典生成式选择特定的键-值对\n",
    "my_dictionary = {'customer1': 7, 'customer2': 9, 'customer3': 11}\n",
    "my_results = {key : value for key, value in my_dictionary.items() if \\\n",
    "value > 10}\n",
    "print(\"Output #133 (dictionary comprehension): {}\".format(my_results))"
   ]
  },
  {
   "cell_type": "code",
   "execution_count": 52,
   "metadata": {},
   "outputs": [
    {
     "name": "stdout",
     "output_type": "stream",
     "text": [
      "Output #134:\n",
      "0\n",
      "1\n",
      "2\n",
      "3\n",
      "4\n",
      "5\n",
      "6\n",
      "7\n",
      "8\n",
      "9\n",
      "10\n"
     ]
    }
   ],
   "source": [
    "print(\"Output #134:\")\n",
    "x = 0\n",
    "while x < 11:\n",
    "    print(\"{!s}\".format(x))\n",
    "    x += 1"
   ]
  },
  {
   "cell_type": "code",
   "execution_count": 55,
   "metadata": {},
   "outputs": [
    {
     "name": "stdout",
     "output_type": "stream",
     "text": [
      "Output #135 (mean): 5.0\n"
     ]
    }
   ],
   "source": [
    "#计算一系列数值的均值\n",
    "def getMean(numericValues):\n",
    "    return sum(numericValues)/len(numericValues) if len(numericValues) > 0 else float('nan')\n",
    "my_list = [2, 2, 4, 4, 6, 6, 8, 8]\n",
    "print(\"Output #135 (mean): {!s}\".format(getMean(my_list)))"
   ]
  },
  {
   "cell_type": "code",
   "execution_count": 56,
   "metadata": {},
   "outputs": [
    {
     "name": "stdout",
     "output_type": "stream",
     "text": [
      "Output #138 (Error): nan\n",
      "Output #138 (Error): division by zero\n"
     ]
    }
   ],
   "source": [
    "# 计算一系列数值的均值\n",
    "def getMean(numericValues):\n",
    "    return sum(numericValues)/len(numericValues)\n",
    "my_list2 = [ ]\n",
    "# 简单形式\n",
    "try:\n",
    "    print(\"Output #138: {}\".format(getMean(my_list2)))\n",
    "except ZeroDivisionError as detail:\n",
    "    print(\"Output #138 (Error): {}\".format(float('nan')))\n",
    "    print(\"Output #138 (Error): {}\".format(detail))"
   ]
  },
  {
   "cell_type": "code",
   "execution_count": 57,
   "metadata": {},
   "outputs": [],
   "source": [
    "#!/usr/bin/env python3\n",
    "from math import exp, log, sqrt\n",
    "import re\n",
    "from datetime import date, time, datetime, timedelta\n",
    "from operator import itemgetter\n",
    "import sys"
   ]
  },
  {
   "cell_type": "code",
   "execution_count": 61,
   "metadata": {},
   "outputs": [
    {
     "name": "stdout",
     "output_type": "stream",
     "text": [
      "Output #143: \n"
     ]
    },
    {
     "ename": "FileNotFoundError",
     "evalue": "[Errno 2] No such file or directory: '-f'",
     "output_type": "error",
     "traceback": [
      "\u001b[1;31m---------------------------------------------------------------------------\u001b[0m",
      "\u001b[1;31mFileNotFoundError\u001b[0m                         Traceback (most recent call last)",
      "\u001b[1;32m<ipython-input-61-1ae4b339b9b9>\u001b[0m in \u001b[0;36m<module>\u001b[1;34m\u001b[0m\n\u001b[0;32m      2\u001b[0m \u001b[0minput_file\u001b[0m \u001b[1;33m=\u001b[0m \u001b[0msys\u001b[0m\u001b[1;33m.\u001b[0m\u001b[0margv\u001b[0m\u001b[1;33m[\u001b[0m\u001b[1;36m1\u001b[0m\u001b[1;33m]\u001b[0m\u001b[1;33m\u001b[0m\u001b[1;33m\u001b[0m\u001b[0m\n\u001b[0;32m      3\u001b[0m \u001b[0mprint\u001b[0m \u001b[1;33m(\u001b[0m\u001b[1;34m\"Output #143: \"\u001b[0m\u001b[1;33m)\u001b[0m\u001b[1;33m\u001b[0m\u001b[1;33m\u001b[0m\u001b[0m\n\u001b[1;32m----> 4\u001b[1;33m \u001b[0mfilereader\u001b[0m \u001b[1;33m=\u001b[0m \u001b[0mopen\u001b[0m\u001b[1;33m(\u001b[0m\u001b[0minput_file\u001b[0m\u001b[1;33m,\u001b[0m \u001b[1;34m'r'\u001b[0m\u001b[1;33m)\u001b[0m\u001b[1;33m\u001b[0m\u001b[1;33m\u001b[0m\u001b[0m\n\u001b[0m\u001b[0;32m      5\u001b[0m \u001b[1;32mfor\u001b[0m \u001b[0mrow\u001b[0m \u001b[1;32min\u001b[0m \u001b[0mfilereader\u001b[0m\u001b[1;33m:\u001b[0m\u001b[1;33m\u001b[0m\u001b[1;33m\u001b[0m\u001b[0m\n\u001b[0;32m      6\u001b[0m     \u001b[0mprint\u001b[0m \u001b[1;33m(\u001b[0m\u001b[0mrow\u001b[0m\u001b[1;33m.\u001b[0m\u001b[0mstrip\u001b[0m\u001b[1;33m(\u001b[0m\u001b[1;33m)\u001b[0m\u001b[1;33m)\u001b[0m\u001b[1;33m\u001b[0m\u001b[1;33m\u001b[0m\u001b[0m\n",
      "\u001b[1;31mFileNotFoundError\u001b[0m: [Errno 2] No such file or directory: '-f'"
     ]
    }
   ],
   "source": [
    "# 读取单个文本文件\n",
    "input_file = sys.argv[1]\n",
    "print (\"Output #143: \")\n",
    "filereader = open(input_file, 'r')\n",
    "for row in filereader:\n",
    "    print (row.strip())\n",
    "filereader.close()"
   ]
  },
  {
   "cell_type": "code",
   "execution_count": null,
   "metadata": {},
   "outputs": [],
   "source": []
  }
 ],
 "metadata": {
  "kernelspec": {
   "display_name": "Python 3",
   "language": "python",
   "name": "python3"
  },
  "language_info": {
   "codemirror_mode": {
    "name": "ipython",
    "version": 3
   },
   "file_extension": ".py",
   "mimetype": "text/x-python",
   "name": "python",
   "nbconvert_exporter": "python",
   "pygments_lexer": "ipython3",
   "version": "3.7.3"
  }
 },
 "nbformat": 4,
 "nbformat_minor": 2
}
