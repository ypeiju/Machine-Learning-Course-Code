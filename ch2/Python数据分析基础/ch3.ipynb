{
 "cells": [
  {
   "cell_type": "code",
   "execution_count": 1,
   "metadata": {},
   "outputs": [
    {
     "name": "stdout",
     "output_type": "stream",
     "text": [
      "Number of worksheets: 3\n",
      "Worksheet name: january_2013 \tRows: 7 \tColumns: 5\n",
      "Worksheet name: february_2013 \tRows: 7 \tColumns: 5\n",
      "Worksheet name: march_2013 \tRows: 7 \tColumns: 5\n"
     ]
    }
   ],
   "source": [
    "#!/usr/bin/env python3\n",
    "import sys\n",
    "from xlrd import open_workbook\n",
    "\n",
    "input_file = 'sales_2013.xlsx'\n",
    "\n",
    "workbook = open_workbook(input_file)\n",
    "print('Number of worksheets:', workbook.nsheets)\n",
    "for worksheet in workbook.sheets():\n",
    "\tprint(\"Worksheet name:\", worksheet.name, \"\\tRows:\", \\\n",
    "\t\t\tworksheet.nrows, \"\\tColumns:\", worksheet.ncols)\n"
   ]
  },
  {
   "cell_type": "code",
   "execution_count": null,
   "metadata": {},
   "outputs": [],
   "source": []
  }
 ],
 "metadata": {
  "kernelspec": {
   "display_name": "Python 3",
   "language": "python",
   "name": "python3"
  },
  "language_info": {
   "codemirror_mode": {
    "name": "ipython",
    "version": 3
   },
   "file_extension": ".py",
   "mimetype": "text/x-python",
   "name": "python",
   "nbconvert_exporter": "python",
   "pygments_lexer": "ipython3",
   "version": "3.7.3"
  }
 },
 "nbformat": 4,
 "nbformat_minor": 2
}
