{
 "cells": [
  {
   "cell_type": "code",
   "execution_count": 2,
   "metadata": {},
   "outputs": [
    {
     "ename": "IndentationError",
     "evalue": "unindent does not match any outer indentation level (<tokenize>, line 35)",
     "output_type": "error",
     "traceback": [
      "\u001b[1;36m  File \u001b[1;32m\"<tokenize>\"\u001b[1;36m, line \u001b[1;32m35\u001b[0m\n\u001b[1;33m    from sklearn.metrics import r2_score\u001b[0m\n\u001b[1;37m    ^\u001b[0m\n\u001b[1;31mIndentationError\u001b[0m\u001b[1;31m:\u001b[0m unindent does not match any outer indentation level\n"
     ]
    }
   ],
   "source": [
    "#计算回归相关系数的方法   确定Ok\n",
    "\n",
    "#相关系数第一种\n",
    "def calc_corr(a,b):\n",
    "    a_avg = sum(a)/len(a)\n",
    "    b_avg = sum(b)/len(b)\n",
    "    cov_ab = sum([(x - a_avg)*(y - b_avg) for x,y in zip(a, b)])\n",
    "    sq = math.sqrt(sum([(x - a_avg)**2 for x in a])*sum([(x - b_avg)**2 for x in b]))\n",
    "    corr_factor = cov_ab/sq\n",
    "    return corr_factor\n",
    "\n",
    "#相关系数第二种\n",
    "import numpy as np\n",
    "from astropy.units import Ybarn\n",
    "import math\n",
    " \n",
    "def computeCorrelation(X, Y):\n",
    "    xBar = np.mean(X)\n",
    "    yBar = np.mean(Y)\n",
    "    SSR = 0\n",
    "    varX = 0\n",
    "    varY = 0\n",
    "    for i in range(0 , len(X)):\n",
    "        diffXXBar = X[i] - xBar\n",
    "        diffYYBar = Y[i] - yBar\n",
    "        SSR += (diffXXBar * diffYYBar)\n",
    "        varX +=  diffXXBar**2\n",
    "        varY += diffYYBar**2\n",
    "    \n",
    "    SST = math.sqrt(varX * varY)\n",
    "    return SSR / SST\n",
    " \n",
    "\n",
    " #决定系数\n",
    " from sklearn.metrics import r2_score\n",
    " r2_score(y_true,y_pred)\n",
    "\n",
    "\n",
    "#均方误差、均方根误差\n",
    "from sklearn.merics import mean_squared_error\n",
    "mes = mean_squared_error(y_true,y_pred)\n",
    "rmse = np.sqrt(mse)\n"
   ]
  },
  {
   "cell_type": "code",
   "execution_count": null,
   "metadata": {},
   "outputs": [],
   "source": []
  }
 ],
 "metadata": {
  "kernelspec": {
   "display_name": "Python 3",
   "language": "python",
   "name": "python3"
  },
  "language_info": {
   "codemirror_mode": {
    "name": "ipython",
    "version": 3
   },
   "file_extension": ".py",
   "mimetype": "text/x-python",
   "name": "python",
   "nbconvert_exporter": "python",
   "pygments_lexer": "ipython3",
   "version": "3.7.3"
  }
 },
 "nbformat": 4,
 "nbformat_minor": 2
}
