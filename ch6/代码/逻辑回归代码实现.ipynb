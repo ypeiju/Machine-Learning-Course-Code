{
 "cells": [
  {
   "cell_type": "markdown",
   "metadata": {},
   "source": [
    "#### 一、模块导入"
   ]
  },
  {
   "cell_type": "code",
   "execution_count": 7,
   "metadata": {},
   "outputs": [],
   "source": [
    "from sklearn import datasets # sklearn自带数据集\n",
    "from sklearn.linear_model import LogisticRegression # 逻辑回归算法\n",
    "from sklearn.metrics import classification_report # 模型评估\n",
    "from sklearn.model_selection import train_test_split # 拆分数据集\n",
    "from sklearn.metrics import classification_report # 模型评估\n",
    "import pandas as pd "
   ]
  },
  {
   "cell_type": "markdown",
   "metadata": {},
   "source": [
    "#### 二、了解数据集"
   ]
  },
  {
   "cell_type": "code",
   "execution_count": 8,
   "metadata": {},
   "outputs": [
    {
     "name": "stdout",
     "output_type": "stream",
     "text": [
      "['DESCR', 'data', 'feature_names', 'target', 'target_names']\n",
      "(150, 4)\n",
      "['sepal length (cm)', 'sepal width (cm)', 'petal length (cm)', 'petal width (cm)']\n",
      "[[5.1 3.5 1.4 0.2]\n",
      " [4.9 3.  1.4 0.2]\n",
      " [4.7 3.2 1.3 0.2]\n",
      " [4.6 3.1 1.5 0.2]\n",
      " [5.  3.6 1.4 0.2]\n",
      " [5.4 3.9 1.7 0.4]\n",
      " [4.6 3.4 1.4 0.3]\n",
      " [5.  3.4 1.5 0.2]\n",
      " [4.4 2.9 1.4 0.2]\n",
      " [4.9 3.1 1.5 0.1]]\n",
      "[0 0 0 0 0 0 0 0 0 0 0 0 0 0 0 0 0 0 0 0 0 0 0 0 0 0 0 0 0 0 0 0 0 0 0 0 0\n",
      " 0 0 0 0 0 0 0 0 0 0 0 0 0 1 1 1 1 1 1 1 1 1 1 1 1 1 1 1 1 1 1 1 1 1 1 1 1\n",
      " 1 1 1 1 1 1 1 1 1 1 1 1 1 1 1 1 1 1 1 1 1 1 1 1 1 1]\n",
      "['setosa' 'versicolor' 'virginica']\n"
     ]
    }
   ],
   "source": [
    "# 导入sklearn自带的iris数据集 ：\n",
    "iris = datasets.load_iris()\n",
    "# dir()查看一下iris中有哪些内容：\n",
    "print(dir(iris))\n",
    "# ['DESCR', 'data', 'feature_names', 'target', 'target_names']\n",
    "# 查看一下iris的shape：\n",
    "print(iris.data.shape)\n",
    "# 查看一下feature_names：\n",
    "print(iris.feature_names)\n",
    "# 查看iris数据前10行：\n",
    "print(iris.data[:10])\n",
    "# 查看target前100个值：\n",
    "print(iris.target[:100])\n",
    "# 查看目标变量的类别名称：\n",
    "print(iris.target_names)"
   ]
  },
  {
   "cell_type": "markdown",
   "metadata": {},
   "source": [
    "#### 三、模型训练"
   ]
  },
  {
   "cell_type": "code",
   "execution_count": 9,
   "metadata": {},
   "outputs": [
    {
     "name": "stdout",
     "output_type": "stream",
     "text": [
      "[[ 0.36538529  1.37198083 -2.06564697 -0.94881488]\n",
      " [ 0.27680493 -1.33031335  0.5338162  -1.03778136]\n",
      " [-1.40278862 -1.46945218  2.12708947  2.18107388]]\n",
      "[ 0.23501757  0.84472013 -1.0328022 ]\n"
     ]
    }
   ],
   "source": [
    "# 拆分数据集\n",
    "X_train,X_test,y_train,y_test = train_test_split(iris.data,iris.target,test_size=0.3,random_state=123456)\n",
    "# 实例化模型并训练\n",
    "model = LogisticRegression()\n",
    "model.fit(X_train,y_train)\n",
    "# 查看模型结果\n",
    "print(model.coef_)\n",
    "print(model.intercept_)"
   ]
  },
  {
   "cell_type": "markdown",
   "metadata": {},
   "source": [
    "#### 五、模型评估"
   ]
  },
  {
   "cell_type": "code",
   "execution_count": 10,
   "metadata": {},
   "outputs": [
    {
     "name": "stdout",
     "output_type": "stream",
     "text": [
      "1.0\n",
      "             precision    recall  f1-score   support\n",
      "\n",
      "          0       1.00      1.00      1.00        15\n",
      "          1       1.00      1.00      1.00        15\n",
      "          2       1.00      1.00      1.00        15\n",
      "\n",
      "avg / total       1.00      1.00      1.00        45\n",
      "\n"
     ]
    }
   ],
   "source": [
    "# 方法1：直接使用模型的score方法计算正确率\n",
    "print(model.score(X_test,y_test))\n",
    "# 方法2：使用sklearn.metrics下的classification_report方法\n",
    "# 先对测试集进行预测\n",
    "y_pred = model.predict(X_test) #预测类别标签\n",
    "y_pred_prob = model.predict_proba(X_test) #预测类别概率\n",
    "# 分类评估报告 classification_report\n",
    "\n",
    "print(classification_report(y_test,y_pred))"
   ]
  },
  {
   "cell_type": "code",
   "execution_count": 11,
   "metadata": {},
   "outputs": [
    {
     "name": "stdout",
     "output_type": "stream",
     "text": [
      "[0 2 0 1 0 0 2 2 2 0 1 2 2 0 0 2 1 2 1 0 1 2 1 1 1 2 2 2 2 1 0 1 0 1 1 0 1\n",
      " 0 0 2 1 2 0 0 1]\n",
      "[[9.56224200e-01 4.37653448e-02 1.04552988e-05]\n",
      " [5.87710116e-04 3.17613141e-01 6.81799149e-01]\n",
      " [9.25259225e-01 7.47353802e-02 5.39465479e-06]\n",
      " [1.58366563e-01 7.75457695e-01 6.61757424e-02]\n",
      " [7.12520973e-01 2.86940004e-01 5.39023185e-04]\n",
      " [8.95272470e-01 1.04675350e-01 5.21799407e-05]\n",
      " [5.38406459e-04 3.01007860e-01 6.98453733e-01]\n",
      " [4.98031308e-04 2.84398620e-01 7.15103349e-01]\n",
      " [1.65697144e-03 3.86791229e-01 6.11551800e-01]\n",
      " [9.03780275e-01 9.61748152e-02 4.49099409e-05]\n",
      " [4.20887645e-02 8.04636127e-01 1.53275109e-01]\n",
      " [8.45020872e-04 2.40197819e-01 7.58957160e-01]\n",
      " [8.83698590e-04 3.53351210e-01 6.45765091e-01]\n",
      " [8.70881241e-01 1.29071324e-01 4.74351102e-05]\n",
      " [9.13111881e-01 8.68222210e-02 6.58980999e-05]\n",
      " [1.25006580e-03 3.70647281e-01 6.28102653e-01]\n",
      " [4.58297081e-02 6.41325026e-01 3.12845266e-01]\n",
      " [1.27694992e-03 2.73673311e-01 7.25049739e-01]\n",
      " [7.38923900e-02 7.52841011e-01 1.73266599e-01]\n",
      " [8.75758178e-01 1.24098912e-01 1.42909128e-04]\n",
      " [1.62089571e-02 6.53426536e-01 3.30364506e-01]\n",
      " [4.07517829e-04 2.72274574e-01 7.27317908e-01]\n",
      " [1.61389358e-02 5.65590000e-01 4.18271064e-01]\n",
      " [1.32880412e-02 5.75209122e-01 4.11502836e-01]\n",
      " [1.30569594e-01 7.10632790e-01 1.58797616e-01]\n",
      " [2.56860020e-03 3.27405145e-01 6.70026254e-01]\n",
      " [3.24485586e-05 4.13516462e-01 5.86451089e-01]\n",
      " [3.32197505e-04 4.18699818e-01 5.80967984e-01]\n",
      " [6.96950453e-03 3.51599637e-01 6.41430858e-01]\n",
      " [1.87751068e-01 6.62900689e-01 1.49348243e-01]\n",
      " [8.08788590e-01 1.90937386e-01 2.74023876e-04]\n",
      " [4.81007701e-02 6.61194410e-01 2.90704820e-01]\n",
      " [8.08155819e-01 1.91745284e-01 9.88964447e-05]\n",
      " [4.88202374e-02 7.51042336e-01 2.00137427e-01]\n",
      " [4.87250445e-02 7.44934803e-01 2.06340152e-01]\n",
      " [8.61519816e-01 1.38360465e-01 1.19719575e-04]\n",
      " [2.69298506e-02 6.96958732e-01 2.76111418e-01]\n",
      " [9.32907294e-01 6.70714624e-02 2.12440011e-05]\n",
      " [8.52847688e-01 1.47101988e-01 5.03244579e-05]\n",
      " [5.26088347e-03 3.99852499e-01 5.94886617e-01]\n",
      " [1.07722196e-02 7.01408123e-01 2.87819657e-01]\n",
      " [2.34124443e-03 2.66627962e-01 7.31030794e-01]\n",
      " [8.08155819e-01 1.91745284e-01 9.88964447e-05]\n",
      " [8.10851230e-01 1.89033086e-01 1.15683346e-04]\n",
      " [7.36823727e-03 5.12892832e-01 4.79738931e-01]]\n"
     ]
    },
    {
     "data": {
      "text/plain": [
       "0.9999999999999999"
      ]
     },
     "execution_count": 11,
     "metadata": {},
     "output_type": "execute_result"
    }
   ],
   "source": [
    "#可以通过以下查看预测试结果\n",
    "print(y_pred)\n",
    "print(y_pred_prob)\n",
    "# 验证三个概率相加等于1\n",
    "y_pred_prob[0].sum()\n"
   ]
  },
  {
   "cell_type": "code",
   "execution_count": 12,
   "metadata": {},
   "outputs": [
    {
     "name": "stdout",
     "output_type": "stream",
     "text": [
      "1.0\n",
      "             precision    recall  f1-score   support\n",
      "\n",
      "          0       1.00      1.00      1.00        15\n",
      "          1       1.00      1.00      1.00        15\n",
      "          2       1.00      1.00      1.00        15\n",
      "\n",
      "avg / total       1.00      1.00      1.00        45\n",
      "\n",
      "[0 2 0 1 0 0 2 2 2 0 1 2 2 0 0 2 1 2 1 0 1 2 1 1 1 2 2 2 2 1 0 1 0 1 1 0 1\n",
      " 0 0 2 1 2 0 0 1]\n",
      "[[9.56224200e-01 4.37653448e-02 1.04552988e-05]\n",
      " [5.87710116e-04 3.17613141e-01 6.81799149e-01]\n",
      " [9.25259225e-01 7.47353802e-02 5.39465479e-06]\n",
      " [1.58366563e-01 7.75457695e-01 6.61757424e-02]\n",
      " [7.12520973e-01 2.86940004e-01 5.39023185e-04]\n",
      " [8.95272470e-01 1.04675350e-01 5.21799407e-05]\n",
      " [5.38406459e-04 3.01007860e-01 6.98453733e-01]\n",
      " [4.98031308e-04 2.84398620e-01 7.15103349e-01]\n",
      " [1.65697144e-03 3.86791229e-01 6.11551800e-01]\n",
      " [9.03780275e-01 9.61748152e-02 4.49099409e-05]\n",
      " [4.20887645e-02 8.04636127e-01 1.53275109e-01]\n",
      " [8.45020872e-04 2.40197819e-01 7.58957160e-01]\n",
      " [8.83698590e-04 3.53351210e-01 6.45765091e-01]\n",
      " [8.70881241e-01 1.29071324e-01 4.74351102e-05]\n",
      " [9.13111881e-01 8.68222210e-02 6.58980999e-05]\n",
      " [1.25006580e-03 3.70647281e-01 6.28102653e-01]\n",
      " [4.58297081e-02 6.41325026e-01 3.12845266e-01]\n",
      " [1.27694992e-03 2.73673311e-01 7.25049739e-01]\n",
      " [7.38923900e-02 7.52841011e-01 1.73266599e-01]\n",
      " [8.75758178e-01 1.24098912e-01 1.42909128e-04]\n",
      " [1.62089571e-02 6.53426536e-01 3.30364506e-01]\n",
      " [4.07517829e-04 2.72274574e-01 7.27317908e-01]\n",
      " [1.61389358e-02 5.65590000e-01 4.18271064e-01]\n",
      " [1.32880412e-02 5.75209122e-01 4.11502836e-01]\n",
      " [1.30569594e-01 7.10632790e-01 1.58797616e-01]\n",
      " [2.56860020e-03 3.27405145e-01 6.70026254e-01]\n",
      " [3.24485586e-05 4.13516462e-01 5.86451089e-01]\n",
      " [3.32197505e-04 4.18699818e-01 5.80967984e-01]\n",
      " [6.96950453e-03 3.51599637e-01 6.41430858e-01]\n",
      " [1.87751068e-01 6.62900689e-01 1.49348243e-01]\n",
      " [8.08788590e-01 1.90937386e-01 2.74023876e-04]\n",
      " [4.81007701e-02 6.61194410e-01 2.90704820e-01]\n",
      " [8.08155819e-01 1.91745284e-01 9.88964447e-05]\n",
      " [4.88202374e-02 7.51042336e-01 2.00137427e-01]\n",
      " [4.87250445e-02 7.44934803e-01 2.06340152e-01]\n",
      " [8.61519816e-01 1.38360465e-01 1.19719575e-04]\n",
      " [2.69298506e-02 6.96958732e-01 2.76111418e-01]\n",
      " [9.32907294e-01 6.70714624e-02 2.12440011e-05]\n",
      " [8.52847688e-01 1.47101988e-01 5.03244579e-05]\n",
      " [5.26088347e-03 3.99852499e-01 5.94886617e-01]\n",
      " [1.07722196e-02 7.01408123e-01 2.87819657e-01]\n",
      " [2.34124443e-03 2.66627962e-01 7.31030794e-01]\n",
      " [8.08155819e-01 1.91745284e-01 9.88964447e-05]\n",
      " [8.10851230e-01 1.89033086e-01 1.15683346e-04]\n",
      " [7.36823727e-03 5.12892832e-01 4.79738931e-01]]\n"
     ]
    },
    {
     "data": {
      "text/plain": [
       "0.9999999999999999"
      ]
     },
     "execution_count": 12,
     "metadata": {},
     "output_type": "execute_result"
    }
   ],
   "source": [
    "#完整代码\n",
    "from sklearn import datasets\n",
    "from sklearn.linear_model import LogisticRegression\n",
    "from sklearn.metrics import classification_report\n",
    "\n",
    "# 导入sklearn自带的iris数据集 ：\n",
    "iris = datasets.load_iris()\n",
    "\n",
    "# 实例化模型并训练\n",
    "model = LogisticRegression()\n",
    "model.fit(X_train,y_train)\n",
    "\n",
    "# 方法1：直接使用模型的score方法计算正确率\n",
    "print(model.score(X_test,y_test))\n",
    "# 方法2：使用sklearn.metrics下的classification_report方法\n",
    "# 先对测试集进行预测\n",
    "y_pred = model.predict(X_test) #预测类别标签\n",
    "y_pred_prob = model.predict_proba(X_test) #预测类别概率\n",
    "\n",
    "# 分类评估报告 classification_report\n",
    "print(classification_report(y_test,y_pred))\n",
    "\n",
    "#可以通过以下查看预测试结果\n",
    "print(y_pred)\n",
    "print(y_pred_prob)\n",
    "# 验证三个概率相加等于1\n",
    "y_pred_prob[0].sum()"
   ]
  },
  {
   "cell_type": "code",
   "execution_count": null,
   "metadata": {},
   "outputs": [],
   "source": []
  }
 ],
 "metadata": {
  "kernelspec": {
   "display_name": "Python 3",
   "language": "python",
   "name": "python3"
  },
  "language_info": {
   "codemirror_mode": {
    "name": "ipython",
    "version": 3
   },
   "file_extension": ".py",
   "mimetype": "text/x-python",
   "name": "python",
   "nbconvert_exporter": "python",
   "pygments_lexer": "ipython3",
   "version": "3.7.3"
  }
 },
 "nbformat": 4,
 "nbformat_minor": 2
}
