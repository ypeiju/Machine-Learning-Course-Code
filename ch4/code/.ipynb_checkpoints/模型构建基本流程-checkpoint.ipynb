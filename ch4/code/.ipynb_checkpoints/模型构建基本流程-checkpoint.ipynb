{
 "cells": [
  {
   "cell_type": "code",
   "execution_count": 1,
   "metadata": {},
   "outputs": [
    {
     "name": "stderr",
     "output_type": "stream",
     "text": [
      "ERROR:root:File `'topic02-数据准备与数据处理-完整代码.py'` not found.\n"
     ]
    }
   ],
   "source": [
    "%run topic02-数据准备与数据处理-完整代码.ipynb"
   ]
  },
  {
   "cell_type": "code",
   "execution_count": 2,
   "metadata": {},
   "outputs": [
    {
     "ename": "NameError",
     "evalue": "name 'TrainData' is not defined",
     "output_type": "error",
     "traceback": [
      "\u001b[1;31m---------------------------------------------------------------------------\u001b[0m",
      "\u001b[1;31mNameError\u001b[0m                                 Traceback (most recent call last)",
      "\u001b[1;32m<ipython-input-2-9cd47b9735a8>\u001b[0m in \u001b[0;36m<module>\u001b[1;34m()\u001b[0m\n\u001b[1;32m----> 1\u001b[1;33m \u001b[0mTrainData\u001b[0m\u001b[1;33m.\u001b[0m\u001b[0mhead\u001b[0m\u001b[1;33m(\u001b[0m\u001b[1;33m)\u001b[0m\u001b[1;33m\u001b[0m\u001b[0m\n\u001b[0m",
      "\u001b[1;31mNameError\u001b[0m: name 'TrainData' is not defined"
     ]
    }
   ],
   "source": [
    "TrainData.head()"
   ]
  },
  {
   "cell_type": "code",
   "execution_count": null,
   "metadata": {},
   "outputs": [],
   "source": [
    "TrainData.describe().transpose()"
   ]
  },
  {
   "cell_type": "code",
   "execution_count": null,
   "metadata": {},
   "outputs": [],
   "source": [
    "# 导入相关包\n",
    "from sklearn.linear_model import LogisticRegression\n",
    "from sklearn.model_selection import train_test_split\n",
    "from sklearn.metrics import classification_report\n",
    "# 拆分训练集和测试集y=f(x)\n",
    "# trainData系列为训练集，trainData_X:训练集自变量(x)，trainData_y:训练集因变量(y)\n",
    "trainData_X = TrainData.drop(['Survived'], axis = 1)#注意：训练集中一定要删除目标值，因为这个值是要训练得出的\n",
    "trainData_y = TrainData.Survived # 把原数据集中的结果（可以理解为数据标准）保存到因变量集中，用于将来和训练的结果集对比得正确率\n",
    "# X_test:代表的是测试集数据（自变量），y_test:代表的是测试集数据（因变量）\n",
    "X_train, X_test, y_train, y_test = train_test_split(trainData_X, trainData_y, test_size=0.3, random_state=123456)\n",
    "# 实例化一个逻辑回归模型(逻辑回归是用于解决分类问题的典型机器学习算法)\n",
    "lr = LogisticRegression()\n",
    "# 训练模型（此过程本质上是得到相关数学模型的相关参数,即得到：y=f(x)相关表达式）\n",
    "lr.fit(X_train, y_train)\n",
    "# 用模型对测试集进行预测（用之前得到的y=f(x)公式，带入x,求解y）\n",
    "y_test_pred = lr.predict(X_test)\n",
    "# 输出测试集上模型评估报告classification_report(即预测试的结果集和实际事先标注的真实结果集进行比较)\n",
    "print(classification_report(y_test,y_test_pred))\n",
    "print(y_train)"
   ]
  },
  {
   "cell_type": "code",
   "execution_count": null,
   "metadata": {},
   "outputs": [],
   "source": [
    "# 测试模型，代码再跑一遍\n",
    "# step-1:先获取测试集，进行相关的数据预处理\n",
    "# 导入相关包import pandas as pd\n",
    "# 读取测试数据集\n",
    "titanic_df = pd.read_csv('./datasets/titanic/test.csv')\n",
    "# drop掉Name,Ticket,Cabin\n",
    "titanic_df = titanic_df.drop(['Name','Ticket','Cabin'], axis = 1)\n",
    "# 构造一个新变量AgeIsMissing\n",
    "titanic_df['AgeIsMissing'] = 0\n",
    "titanic_df.loc[titanic_df['Age'].isnull(), 'AgeIsMissing'] = 1\n",
    "# 对Age缺失值进行均值填充\n",
    "age_mean = round(titanic_df['Age'].mean())\n",
    "titanic_df['Age'].fillna(age_mean, inplace=True)\n",
    "# 对Embarked缺失值用'S'替换\n",
    "titanic_df['Embarked'].fillna('S', inplace=True)\n",
    "# 对Age进行分箱--自定义分箱\n",
    "cut_points = [0,18,25,40,60,100]\n",
    "titanic_df[\"AgeBin\"] = pd.cut(titanic_df.Age, bins=cut_points)\n",
    "# 对Fare船票价格进行分箱--等深分箱\n",
    "titanic_df[\"FareBin\"] = pd.qcut(titanic_df.Fare, 5)\n",
    "# 构造FamilySize变量\n",
    "titanic_df['FamilySize'] = titanic_df['SibSp'] + titanic_df['Parch'] + 1\n",
    "# 构造一个新变量IsAlone（是否独自一人)\n",
    "titanic_df['IsAlone'] = 0\n",
    "titanic_df.loc[titanic_df['FamilySize'] == 1, 'IsAlone'] = 1\n",
    "# 构造一个新变量IsMother（是否是母亲）\n",
    "titanic_df['IsMother'] = 0\n",
    "titanic_df.loc[(titanic_df['Sex']=='female') & (titanic_df['Parch']>0) & (titanic_df['Age']>20), 'IsMother'] = 1\n",
    "# 把Sex性别和AgeBin特征进行组合\n",
    "titanic_df['SexAgeCombo'] = titanic_df['Sex'] + \"_\" + titanic_df['AgeBin'].astype(str)\n",
    "# 对Pclass,Sex,Embarked,AgeBin,FareBin,FamilySize,Sex_Age_combo进行独热编码\n",
    "Pclass = pd.get_dummies(titanic_df.Pclass,prefix='Pclass')\n",
    "Sex = pd.get_dummies(titanic_df.Sex,prefix='Sex')\n",
    "Embarked = pd.get_dummies(titanic_df.Embarked,prefix='Embarked')\n",
    "AgeBin = pd.get_dummies(titanic_df.AgeBin,prefix='AgeBin')\n",
    "FareBin = pd.get_dummies(titanic_df.FareBin,prefix='FareBin')\n",
    "FamilySize = pd.get_dummies(titanic_df.FamilySize,prefix='FamilySize')\n",
    "SexAgeCombo = pd.get_dummies(titanic_df.SexAgeCombo,prefix='SexAgeCombo')\n",
    "# 把需要的变量全部拼接在一起\n",
    "TestData = pd.concat([titanic_df[['PassengerId','AgeIsMissing','IsAlone','IsMother']],\n",
    "                      Pclass,Sex,Embarked,AgeBin,FareBin,FamilySize,SexAgeCombo],axis=1)\n",
    "TestData.head()\n"
   ]
  },
  {
   "cell_type": "code",
   "execution_count": null,
   "metadata": {},
   "outputs": [],
   "source": [
    "# 准备测试集，不需要ID\n",
    "Test_X = TestData.drop(['PassengerId'], axis = 1)\n",
    "# 对测试数据进行预测\n",
    "pred = lr.predict(Test_X)\n",
    "# 生成最终提交结果Submission \n",
    "Submission = pd.DataFrame({'PassengerId':TestData.PassengerId,'Survived':pred})\n",
    "# 导出为csv文件\n",
    "Submission.to_csv(\"./datasets/titanic/Submission.csv\", index=False)\n",
    "# 查看导出文件，读取测试结果数据集\n",
    "submission_df = pd.read_csv('./datasets/titanic/Submission.csv')\n",
    "submission_df.head()"
   ]
  },
  {
   "cell_type": "code",
   "execution_count": null,
   "metadata": {},
   "outputs": [],
   "source": [
    "# 对 测试集预测类别值 并打印输出，结果是一维数组。\n",
    "y_test_pred = lr.predict(Test_X)\n",
    "y_test_pred"
   ]
  },
  {
   "cell_type": "code",
   "execution_count": null,
   "metadata": {},
   "outputs": [],
   "source": [
    "# 对 测试集预测每一个类别的概率值，输出结果是二维数组\n",
    "y_test_pred_prob = lr.predict_proba(X_test)\n",
    "# 值显示前10行\n",
    "y_test_pred_prob[:10]"
   ]
  },
  {
   "cell_type": "code",
   "execution_count": null,
   "metadata": {},
   "outputs": [],
   "source": [
    "# 可以提取y_test_pred和y_test_pred_prob通过DataFrame()拼接起来\n",
    "# 把预测结果转为dataframe格式，并通过concat()拼接起来\n",
    "pred_df = pd.DataFrame(y_test_pred,columns=['pred'])\n",
    "pred_prob_df = pd.DataFrame(y_test_pred_prob,columns=['p_0','p_1'])\n",
    "pd.concat((pred_df,pred_prob_df),axis=1).head()"
   ]
  },
  {
   "cell_type": "code",
   "execution_count": null,
   "metadata": {},
   "outputs": [],
   "source": [
    "# 定义一个数据预处理的函数:prepare_data\n",
    "# 参数说明：\n",
    "# path: 读取的数据文件路径\n",
    "# role：数据文件的用途 ,两个取值：\n",
    "#        train（表明预处理的是训练集）\n",
    "#        test （表明预处理的是测试集）\n",
    "# 返回值：返回预处理好后的训练集或测试集\n",
    "def prepare_data(path,role):\n",
    "    titanic_df = pd.read_csv(path)\n",
    "\n",
    "    if role == 'train':\n",
    "        # train数据集drop掉：PassengerId,Name,Ticket,Cabin\n",
    "        titanic_df = titanic_df.drop(['PassengerId','Name','Ticket','Cabin'], axis = 1)\n",
    "    else:\n",
    "        # test数据集drop掉Name,Ticket,Cabin\n",
    "        titanic_df = titanic_df.drop(['Name','Ticket','Cabin'], axis = 1)\n",
    "        \n",
    "    # 构造一个新变量AgeIsMissing\n",
    "    titanic_df['AgeIsMissing'] = 0\n",
    "    titanic_df.loc[titanic_df['Age'].isnull(), 'AgeIsMissing'] = 1\n",
    "\n",
    "    # 对Age缺失值进行均值填充\n",
    "    age_mean = round(titanic_df['Age'].mean())\n",
    "    titanic_df['Age'].fillna(age_mean, inplace=True)\n",
    "\n",
    "    # 对Embarked缺失值用'S'替换\n",
    "    titanic_df['Embarked'].fillna('S', inplace=True)\n",
    "\n",
    "    # 对Age进行分箱--自定义分箱\n",
    "    cut_points = [0,18,25,40,60,100]\n",
    "    titanic_df[\"AgeBin\"] = pd.cut(titanic_df.Age, bins=cut_points)\n",
    "\n",
    "    # 对Fare船票价格进行分箱--等深分箱\n",
    "    titanic_df[\"FareBin\"] = pd.qcut(titanic_df.Fare, 5)\n",
    "\n",
    "    # 构造FamilySize变量\n",
    "    titanic_df['FamilySize'] = titanic_df['SibSp'] + titanic_df['Parch'] + 1\n",
    "\n",
    "    # 构造一个新变量IsAlone（是否独自一人)\n",
    "    titanic_df['IsAlone'] = 0\n",
    "    titanic_df.loc[titanic_df['FamilySize'] == 1, 'IsAlone'] = 1\n",
    "\n",
    "    # 构造一个新变量IsMother（是否是母亲）\n",
    "    titanic_df['IsMother'] = 0\n",
    "    titanic_df.loc[(titanic_df['Sex']=='female') & (titanic_df['Parch']>0) & (titanic_df['Age']>20), 'IsMother'] = 1\n",
    "\n",
    "    # 把Sex性别和AgeBin特征进行组合\n",
    "    titanic_df['SexAgeCombo'] = titanic_df['Sex'] + \"_\" + titanic_df['AgeBin'].astype(str)\n",
    "\n",
    "    # 对Pclass,Sex,Embarked,AgeBin,FareBin,FamilySize,Sex_Age_combo进行独热编码\n",
    "    Pclass = pd.get_dummies(titanic_df.Pclass,prefix='Pclass')\n",
    "    Sex = pd.get_dummies(titanic_df.Sex,prefix='Sex')\n",
    "    Embarked = pd.get_dummies(titanic_df.Embarked,prefix='Embarked')\n",
    "    AgeBin = pd.get_dummies(titanic_df.AgeBin,prefix='AgeBin')\n",
    "    FareBin = pd.get_dummies(titanic_df.FareBin,prefix='FareBin')\n",
    "    FamilySize = pd.get_dummies(titanic_df.FamilySize,prefix='FamilySize')\n",
    "    SexAgeCombo = pd.get_dummies(titanic_df.SexAgeCombo,prefix='SexAgeCombo')\n",
    "\n",
    "    if role == 'train':\n",
    "        # train数据集保留Survived\n",
    "        data = pd.concat([titanic_df[['Survived','AgeIsMissing','IsAlone','IsMother']],\n",
    "                              Pclass,Sex,Embarked,AgeBin,FareBin,FamilySize,SexAgeCombo],axis=1)\n",
    "    else:\n",
    "        # test数据集保留PassengerId\n",
    "        data = pd.concat([titanic_df[['PassengerId','AgeIsMissing','IsAlone','IsMother']],\n",
    "                              Pclass,Sex,Embarked,AgeBin,FareBin,FamilySize,SexAgeCombo],axis=1)\n",
    "    return data"
   ]
  },
  {
   "cell_type": "code",
   "execution_count": null,
   "metadata": {},
   "outputs": [],
   "source": [
    "# 利用prepare_data()函数对train.csv和test.csv进行同样逻辑的预处理\n",
    "TrainData = prepare_data(path='./datasets/titanic/train.csv',role='train')\n",
    "TestData = prepare_data(path='./datasets/titanic/test.csv',role='test')\n",
    "# drop掉PassengerId剩余变量组合成数据及Test_X\n",
    "Test_X = TestData.drop(['PassengerId'], axis = 1)\n",
    "# 对测试数据进行预测\n",
    "pred = lr.predict(Test_X)\n",
    "# 把PassengerId和pred通过DataFrame()拼接起来形成最后的提交结果\n",
    "Submission = pd.DataFrame({'PassengerId':TestData.PassengerId,'Survived':pred})\n",
    "Submission"
   ]
  },
  {
   "cell_type": "code",
   "execution_count": null,
   "metadata": {},
   "outputs": [],
   "source": [
    "#再重新做一次模型训练，目的是为了查看逻辑回归模型的两个结果\n",
    "from sklearn.linear_model import LogisticRegression\n",
    "from sklearn.model_selection import train_test_split\n",
    "from sklearn.metrics import classification_report\n",
    "trainData_X = TrainData.drop(['Survived'], axis = 1)\n",
    "trainData_y = TrainData.Survived \n",
    "X_train, X_test, y_train, y_test = train_test_split(trainData_X, trainData_y, test_size=0.3, random_state=123456)\n",
    "lr = LogisticRegression()\n",
    "lr.fit(X_train, y_train)\n",
    "# 查看逻辑回归模型的两个结果：intercept_就是一个单值，coef_的shape是(1,40)，40就是X_train中的变量个数。\n",
    "print(lr.intercept_ )\n",
    "print(lr.coef_)\n",
    "# 查看coef_的shape\n",
    "print(\"coef_的shape:\",lr.coef_.shape)\n",
    "# 查看X_train的列数\n",
    "print(\"X_train的列数:\",len(X_train.columns))"
   ]
  },
  {
   "cell_type": "code",
   "execution_count": null,
   "metadata": {
    "scrolled": true
   },
   "outputs": [],
   "source": [
    "import numpy as np\n",
    "# 把变量名称和系数对应起来组合成dataframe\n",
    "coef = pd.DataFrame(list(zip(X_train.columns, np.transpose(lr.coef_))), columns=['columns', 'coef'])\n",
    "# 按照coef的值从高到底排序\n",
    "coef = coef.sort_values(by =['coef'], ascending=False)\n",
    "coef"
   ]
  },
  {
   "cell_type": "code",
   "execution_count": null,
   "metadata": {},
   "outputs": [],
   "source": [
    "# 模块的保存与读取\n",
    "#记得先要导入pickle模块：\n",
    "import pickle\n",
    "# 确认一下lr是我们训练好的逻辑回归模型sklearn.linear_model.logistic.LogisticRegression\n",
    "type(lr)\n",
    "# 通过pickle.dump()把lr模型保存为lrmodel.pickle文件\n",
    "with open('lrmodel.pickle', 'wb') as fw:\n",
    "    pickle.dump(lr, fw)"
   ]
  },
  {
   "cell_type": "code",
   "execution_count": null,
   "metadata": {},
   "outputs": [],
   "source": [
    "# 通过pickle.load 加载 lrmodel.pickle文件，把读取出来的模型赋予一个新的对象 new_lr\n",
    "with open('lrmodel.pickle', 'rb') as fr:\n",
    "    new_lr = pickle.load(fr)\n",
    "#通过type()查看new_lr，的确是一个LogisticRegression模型\n",
    "type(new_lr)\n",
    "# sklearn.linear_model.logistic.LogisticRegression\n",
    "#让我们用new_lr.predict()来对X_test预测一下\n",
    "new_lr.predict(X_test)"
   ]
  },
  {
   "cell_type": "code",
   "execution_count": null,
   "metadata": {},
   "outputs": [],
   "source": [
    "# 使用 sklearn 的 joblib\n",
    "# 保存和读取的流程和pickle基本一样的套路，就不赘述了，记得导包\n",
    "from sklearn.externals import joblib\n",
    "# 保存模型为文件\n",
    "joblib.dump(lr, \"lrmodel.m\")\n",
    "# 读取模型文件\n",
    "new_lr2 = joblib.load(\"lrmodel.m\")\n",
    "# 预测\n",
    "new_lr2.predict(X_test)"
   ]
  },
  {
   "cell_type": "code",
   "execution_count": null,
   "metadata": {},
   "outputs": [],
   "source": []
  }
 ],
 "metadata": {
  "kernelspec": {
   "display_name": "Python 3",
   "language": "python",
   "name": "python3"
  },
  "language_info": {
   "codemirror_mode": {
    "name": "ipython",
    "version": 3
   },
   "file_extension": ".py",
   "mimetype": "text/x-python",
   "name": "python",
   "nbconvert_exporter": "python",
   "pygments_lexer": "ipython3",
   "version": "3.6.4"
  }
 },
 "nbformat": 4,
 "nbformat_minor": 2
}
