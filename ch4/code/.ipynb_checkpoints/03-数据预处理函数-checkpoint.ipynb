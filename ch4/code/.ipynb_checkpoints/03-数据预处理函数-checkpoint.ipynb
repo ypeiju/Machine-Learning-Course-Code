{
 "cells": [
  {
   "cell_type": "code",
   "execution_count": 1,
   "metadata": {},
   "outputs": [],
   "source": [
    "import pandas as pd"
   ]
  },
  {
   "cell_type": "code",
   "execution_count": null,
   "metadata": {},
   "outputs": [],
   "source": [
    "# 定义一个数据预处理的函数:prepare_data\n",
    "# 参数说明：\n",
    "# path: 读取的数据文件路径\n",
    "# role：数据文件的用途 ,两个取值：\n",
    "#        train（表明预处理的是训练集）\n",
    "#        test （表明预处理的是测试集）\n",
    "# 返回值：返回预处理好后的训练集或测试集\n",
    "def prepare_data(path,role):\n",
    "    titanic_df = pd.read_csv(path)\n",
    "\n",
    "    if role == 'train':\n",
    "        # train数据集drop掉：PassengerId,Name,Ticket,Cabin\n",
    "        titanic_df = titanic_df.drop(['PassengerId','Name','Ticket','Cabin'], axis = 1)\n",
    "    else:\n",
    "        # test数据集drop掉Name,Ticket,Cabin\n",
    "        titanic_df = titanic_df.drop(['Name','Ticket','Cabin'], axis = 1)\n",
    "        \n",
    "    # 构造一个新变量AgeIsMissing\n",
    "    titanic_df['AgeIsMissing'] = 0\n",
    "    titanic_df.loc[titanic_df['Age'].isnull(), 'AgeIsMissing'] = 1\n",
    "\n",
    "    # 对Age缺失值进行均值填充\n",
    "    age_mean = round(titanic_df['Age'].mean())\n",
    "    titanic_df['Age'].fillna(age_mean, inplace=True)\n",
    "\n",
    "    # 对Embarked缺失值用'S'替换\n",
    "    titanic_df['Embarked'].fillna('S', inplace=True)\n",
    "\n",
    "    # 对Age进行分箱--自定义分箱\n",
    "    cut_points = [0,18,25,40,60,100]\n",
    "    titanic_df[\"AgeBin\"] = pd.cut(titanic_df.Age, bins=cut_points)\n",
    "\n",
    "    # 对Fare船票价格进行分箱--等深分箱\n",
    "    titanic_df[\"FareBin\"] = pd.qcut(titanic_df.Fare, 5)\n",
    "\n",
    "    # 构造FamilySize变量\n",
    "    titanic_df['FamilySize'] = titanic_df['SibSp'] + titanic_df['Parch'] + 1\n",
    "\n",
    "    # 构造一个新变量IsAlone（是否独自一人)\n",
    "    titanic_df['IsAlone'] = 0\n",
    "    titanic_df.loc[titanic_df['FamilySize'] == 1, 'IsAlone'] = 1\n",
    "\n",
    "    # 构造一个新变量IsMother（是否是母亲）\n",
    "    titanic_df['IsMother'] = 0\n",
    "    titanic_df.loc[(titanic_df['Sex']=='female') & (titanic_df['Parch']>0) & (titanic_df['Age']>20), 'IsMother'] = 1\n",
    "\n",
    "    # 把Sex性别和AgeBin特征进行组合\n",
    "    titanic_df['SexAgeCombo'] = titanic_df['Sex'] + \"_\" + titanic_df['AgeBin'].astype(str)\n",
    "\n",
    "    # 对Pclass,Sex,Embarked,AgeBin,FareBin,FamilySize,Sex_Age_combo进行独热编码\n",
    "    Pclass = pd.get_dummies(titanic_df.Pclass,prefix='Pclass')\n",
    "    Sex = pd.get_dummies(titanic_df.Sex,prefix='Sex')\n",
    "    Embarked = pd.get_dummies(titanic_df.Embarked,prefix='Embarked')\n",
    "    AgeBin = pd.get_dummies(titanic_df.AgeBin,prefix='AgeBin')\n",
    "    FareBin = pd.get_dummies(titanic_df.FareBin,prefix='FareBin')\n",
    "    FamilySize = pd.get_dummies(titanic_df.FamilySize,prefix='FamilySize')\n",
    "    SexAgeCombo = pd.get_dummies(titanic_df.SexAgeCombo,prefix='SexAgeCombo')\n",
    "\n",
    "    if role == 'train':\n",
    "        # train数据集保留Survived\n",
    "        data = pd.concat([titanic_df[['Survived','AgeIsMissing','IsAlone','IsMother']],\n",
    "                              Pclass,Sex,Embarked,AgeBin,FareBin,FamilySize,SexAgeCombo],axis=1)\n",
    "    else:\n",
    "        # test数据集保留PassengerId\n",
    "        data = pd.concat([titanic_df[['PassengerId','AgeIsMissing','IsAlone','IsMother']],\n",
    "                              Pclass,Sex,Embarked,AgeBin,FareBin,FamilySize,SexAgeCombo],axis=1)\n",
    "    return data"
   ]
  }
 ],
 "metadata": {
  "kernelspec": {
   "display_name": "Python 3",
   "language": "python",
   "name": "python3"
  },
  "language_info": {
   "codemirror_mode": {
    "name": "ipython",
    "version": 3
   },
   "file_extension": ".py",
   "mimetype": "text/x-python",
   "name": "python",
   "nbconvert_exporter": "python",
   "pygments_lexer": "ipython3",
   "version": "3.6.4"
  }
 },
 "nbformat": 4,
 "nbformat_minor": 2
}
